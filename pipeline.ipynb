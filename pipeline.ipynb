{
 "cells": [
  {
   "cell_type": "code",
   "execution_count": 1,
   "id": "aad1d5a8",
   "metadata": {},
   "outputs": [],
   "source": [
    "#Task: File Ingestion and Schema validation\n",
    "#import time and os\n",
    "import os\n",
    "import time"
   ]
  },
  {
   "cell_type": "code",
   "execution_count": 2,
   "id": "d6c5a7e9",
   "metadata": {},
   "outputs": [
    {
     "data": {
      "text/plain": [
       "13899"
      ]
     },
     "execution_count": 2,
     "metadata": {},
     "output_type": "execute_result"
    }
   ],
   "source": [
    "#Size of the file\n",
    "os.path.getsize(\"Rate.csv\")\n"
   ]
  },
  {
   "cell_type": "code",
   "execution_count": 3,
   "id": "e2183b9a",
   "metadata": {},
   "outputs": [
    {
     "name": "stdout",
     "output_type": "stream",
     "text": [
      "Read csv with dask:  0.001009225845336914 sec\n"
     ]
    }
   ],
   "source": [
    "#Read in the data with Dask\n",
    "from dask import dataframe as dd\n",
    "start = time.time()\n",
    "dask_df = dd.read_csv('Rate.csv')\n",
    "end = time.time()\n",
    "print(\"Read csv with dask: \",(end-start),\"sec\")"
   ]
  },
  {
   "cell_type": "code",
   "execution_count": 4,
   "id": "6b91edfe",
   "metadata": {},
   "outputs": [
    {
     "name": "stdout",
     "output_type": "stream",
     "text": [
      "Read csv with pandas:  0.0038077831268310547 sec\n"
     ]
    }
   ],
   "source": [
    "#Read in the data with Pandas\n",
    "import pandas as pd\n",
    "start = time.time()\n",
    "df = pd.read_csv('Rate.csv')\n",
    "end = time.time()\n",
    "print(\"Read csv with pandas: \",(end-start),\"sec\")"
   ]
  },
  {
   "cell_type": "code",
   "execution_count": 5,
   "id": "31eec5e9",
   "metadata": {},
   "outputs": [
    {
     "name": "stdout",
     "output_type": "stream",
     "text": [
      "Requirement already satisfied: modin in c:\\users\\ish35\\apython\\lib\\site-packages (0.16.2)\n",
      "Requirement already satisfied: pandas==1.5.1 in c:\\users\\ish35\\apython\\lib\\site-packages (from modin) (1.5.1)\n",
      "Requirement already satisfied: fsspec in c:\\users\\ish35\\apython\\lib\\site-packages (from modin) (2022.2.0)\n",
      "Requirement already satisfied: psutil in c:\\users\\ish35\\apython\\lib\\site-packages (from modin) (5.8.0)\n",
      "Requirement already satisfied: numpy>=1.18.5 in c:\\users\\ish35\\apython\\lib\\site-packages (from modin) (1.21.5)\n",
      "Requirement already satisfied: packaging in c:\\users\\ish35\\apython\\lib\\site-packages (from modin) (21.3)\n",
      "Requirement already satisfied: python-dateutil>=2.8.1 in c:\\users\\ish35\\apython\\lib\\site-packages (from pandas==1.5.1->modin) (2.8.2)\n",
      "Requirement already satisfied: pytz>=2020.1 in c:\\users\\ish35\\apython\\lib\\site-packages (from pandas==1.5.1->modin) (2021.3)\n",
      "Requirement already satisfied: six>=1.5 in c:\\users\\ish35\\apython\\lib\\site-packages (from python-dateutil>=2.8.1->pandas==1.5.1->modin) (1.16.0)\n",
      "Requirement already satisfied: pyparsing!=3.0.5,>=2.0.2 in c:\\users\\ish35\\apython\\lib\\site-packages (from packaging->modin) (3.0.4)\n"
     ]
    },
    {
     "name": "stderr",
     "output_type": "stream",
     "text": [
      "WARNING: Ignoring invalid distribution -qlalchemy (c:\\users\\ish35\\apython\\lib\\site-packages)\n",
      "WARNING: Ignoring invalid distribution -qlalchemy (c:\\users\\ish35\\apython\\lib\\site-packages)\n",
      "WARNING: Ignoring invalid distribution -qlalchemy (c:\\users\\ish35\\apython\\lib\\site-packages)\n",
      "WARNING: Ignoring invalid distribution -qlalchemy (c:\\users\\ish35\\apython\\lib\\site-packages)\n",
      "WARNING: Ignoring invalid distribution -qlalchemy (c:\\users\\ish35\\apython\\lib\\site-packages)\n",
      "WARNING: Ignoring invalid distribution -qlalchemy (c:\\users\\ish35\\apython\\lib\\site-packages)\n"
     ]
    }
   ],
   "source": [
    "!pip install modin\n"
   ]
  },
  {
   "cell_type": "code",
   "execution_count": 6,
   "id": "ca313deb",
   "metadata": {},
   "outputs": [
    {
     "name": "stdout",
     "output_type": "stream",
     "text": [
      "Requirement already satisfied: ray in c:\\users\\ish35\\apython\\lib\\site-packages (2.1.0)\n",
      "Requirement already satisfied: virtualenv>=20.0.24 in c:\\users\\ish35\\apython\\lib\\site-packages (from ray) (20.16.6)\n",
      "Requirement already satisfied: filelock in c:\\users\\ish35\\apython\\lib\\site-packages (from ray) (3.6.0)\n",
      "Requirement already satisfied: msgpack<2.0.0,>=1.0.0 in c:\\users\\ish35\\apython\\lib\\site-packages (from ray) (1.0.2)\n",
      "Requirement already satisfied: numpy>=1.19.3 in c:\\users\\ish35\\apython\\lib\\site-packages (from ray) (1.21.5)\n",
      "Requirement already satisfied: click<=8.0.4,>=7.0 in c:\\users\\ish35\\apython\\lib\\site-packages (from ray) (8.0.4)\n",
      "Requirement already satisfied: jsonschema in c:\\users\\ish35\\apython\\lib\\site-packages (from ray) (4.4.0)\n",
      "Requirement already satisfied: protobuf!=3.19.5,>=3.15.3 in c:\\users\\ish35\\apython\\lib\\site-packages (from ray) (3.19.1)\n",
      "Requirement already satisfied: grpcio>=1.32.0 in c:\\users\\ish35\\apython\\lib\\site-packages (from ray) (1.42.0)\n",
      "Requirement already satisfied: frozenlist in c:\\users\\ish35\\apython\\lib\\site-packages (from ray) (1.2.0)\n",
      "Requirement already satisfied: requests in c:\\users\\ish35\\apython\\lib\\site-packages (from ray) (2.27.1)\n",
      "Requirement already satisfied: pyyaml in c:\\users\\ish35\\apython\\lib\\site-packages (from ray) (6.0)\n",
      "Requirement already satisfied: aiosignal in c:\\users\\ish35\\apython\\lib\\site-packages (from ray) (1.2.0)\n",
      "Requirement already satisfied: attrs in c:\\users\\ish35\\apython\\lib\\site-packages (from ray) (21.4.0)\n",
      "Requirement already satisfied: colorama in c:\\users\\ish35\\apython\\lib\\site-packages (from click<=8.0.4,>=7.0->ray) (0.4.4)\n",
      "Requirement already satisfied: six>=1.5.2 in c:\\users\\ish35\\apython\\lib\\site-packages (from grpcio>=1.32.0->ray) (1.16.0)\n",
      "Requirement already satisfied: platformdirs<3,>=2.4 in c:\\users\\ish35\\apython\\lib\\site-packages (from virtualenv>=20.0.24->ray) (2.5.3)\n",
      "Requirement already satisfied: distlib<1,>=0.3.6 in c:\\users\\ish35\\apython\\lib\\site-packages (from virtualenv>=20.0.24->ray) (0.3.6)\n",
      "Requirement already satisfied: pyrsistent!=0.17.0,!=0.17.1,!=0.17.2,>=0.14.0 in c:\\users\\ish35\\apython\\lib\\site-packages (from jsonschema->ray) (0.18.0)\n",
      "Requirement already satisfied: idna<4,>=2.5 in c:\\users\\ish35\\apython\\lib\\site-packages (from requests->ray) (3.3)\n",
      "Requirement already satisfied: charset-normalizer~=2.0.0 in c:\\users\\ish35\\apython\\lib\\site-packages (from requests->ray) (2.0.4)\n",
      "Requirement already satisfied: urllib3<1.27,>=1.21.1 in c:\\users\\ish35\\apython\\lib\\site-packages (from requests->ray) (1.26.9)\n",
      "Requirement already satisfied: certifi>=2017.4.17 in c:\\users\\ish35\\apython\\lib\\site-packages (from requests->ray) (2022.9.24)\n"
     ]
    },
    {
     "name": "stderr",
     "output_type": "stream",
     "text": [
      "WARNING: Ignoring invalid distribution -qlalchemy (c:\\users\\ish35\\apython\\lib\\site-packages)\n",
      "WARNING: Ignoring invalid distribution -qlalchemy (c:\\users\\ish35\\apython\\lib\\site-packages)\n",
      "WARNING: Ignoring invalid distribution -qlalchemy (c:\\users\\ish35\\apython\\lib\\site-packages)\n",
      "WARNING: Ignoring invalid distribution -qlalchemy (c:\\users\\ish35\\apython\\lib\\site-packages)\n",
      "WARNING: Ignoring invalid distribution -qlalchemy (c:\\users\\ish35\\apython\\lib\\site-packages)\n",
      "WARNING: Ignoring invalid distribution -qlalchemy (c:\\users\\ish35\\apython\\lib\\site-packages)\n"
     ]
    }
   ],
   "source": [
    "!pip install ray\n"
   ]
  },
  {
   "cell_type": "code",
   "execution_count": 7,
   "id": "d07b4fb0",
   "metadata": {},
   "outputs": [
    {
     "name": "stderr",
     "output_type": "stream",
     "text": [
      "2022-11-09 14:05:10,274\tINFO worker.py:1528 -- Started a local Ray instance.\n",
      "UserWarning: When using a pre-initialized Ray cluster, please ensure that the runtime env sets environment variable __MODIN_AUTOIMPORT_PANDAS__ to 1\n"
     ]
    },
    {
     "name": "stdout",
     "output_type": "stream",
     "text": [
      "Read csv with modin and ray:  1.0579862594604492 sec\n"
     ]
    }
   ],
   "source": [
    "#Read in the data with Modin and Ray\n",
    "import modin.pandas as pd\n",
    "import ray\n",
    "ray.shutdown()\n",
    "ray.init()\n",
    "start = time.time()\n",
    "df = pd.read_csv('Rate.csv')\n",
    "end = time.time()\n",
    "print(\"Read csv with modin and ray: \",(end-start),\"sec\")"
   ]
  },
  {
   "cell_type": "code",
   "execution_count": 8,
   "id": "c65d95fe",
   "metadata": {},
   "outputs": [],
   "source": [
    "#Here dask is better than pandas, Modin and Ray, with the least reading time of 0.001009225845336914  sec sec"
   ]
  },
  {
   "cell_type": "code",
   "execution_count": 20,
   "id": "fc07f197",
   "metadata": {},
   "outputs": [],
   "source": [
    "from dask import dataframe as dd\n",
    "df = dd.read_csv('Rate.csv',delimiter=',')"
   ]
  },
  {
   "cell_type": "code",
   "execution_count": 21,
   "id": "bc6705cc",
   "metadata": {},
   "outputs": [
    {
     "name": "stdout",
     "output_type": "stream",
     "text": [
      "<class 'dask.dataframe.core.DataFrame'>\n",
      "Columns: 24 entries, BusinessYear to RowNumber\n",
      "dtypes: object(9), float64(9), int64(6)"
     ]
    }
   ],
   "source": [
    "df.info()\n"
   ]
  },
  {
   "cell_type": "code",
   "execution_count": 22,
   "id": "3a0496de",
   "metadata": {},
   "outputs": [
    {
     "data": {
      "text/plain": [
       "67"
      ]
     },
     "execution_count": 22,
     "metadata": {},
     "output_type": "execute_result"
    }
   ],
   "source": [
    "#No. of Rows\n",
    "len(df.index)"
   ]
  },
  {
   "cell_type": "code",
   "execution_count": 23,
   "id": "e1c77f6e",
   "metadata": {},
   "outputs": [
    {
     "data": {
      "text/plain": [
       "24"
      ]
     },
     "execution_count": 23,
     "metadata": {},
     "output_type": "execute_result"
    }
   ],
   "source": [
    "#No, of Columns\n",
    "len(df.columns)"
   ]
  },
  {
   "cell_type": "code",
   "execution_count": 24,
   "id": "87b915cc",
   "metadata": {},
   "outputs": [
    {
     "name": "stderr",
     "output_type": "stream",
     "text": [
      "FutureWarning: The default value of regex will change from True to False in a future version.\n"
     ]
    }
   ],
   "source": [
    "# remove special character\n",
    "df.columns=df.columns.str.replace('[#,@,&]','')"
   ]
  },
  {
   "cell_type": "code",
   "execution_count": 25,
   "id": "9b500355",
   "metadata": {},
   "outputs": [],
   "source": [
    "#To remove white space from columns\n",
    "df.columns = df.columns.str.replace(' ', '')"
   ]
  },
  {
   "cell_type": "code",
   "execution_count": 26,
   "id": "5aac2288",
   "metadata": {},
   "outputs": [
    {
     "data": {
      "text/plain": [
       "Index(['BusinessYear', 'StateCode', 'IssuerId', 'SourceName', 'VersionNum',\n",
       "       'ImportDate', 'IssuerId2', 'FederalTIN', 'RateEffectiveDate',\n",
       "       'RateExpirationDate', 'PlanId', 'RatingAreaId', 'Tobacco', 'Age',\n",
       "       'IndividualRate', 'IndividualTobaccoRate', 'Couple',\n",
       "       'PrimarySubscriberAndOneDependent', 'PrimarySubscriberAndTwoDependents',\n",
       "       'PrimarySubscriberAndThreeOrMoreDependents', 'CoupleAndOneDependent',\n",
       "       'CoupleAndTwoDependents', 'CoupleAndThreeOrMoreDependents',\n",
       "       'RowNumber'],\n",
       "      dtype='object')"
      ]
     },
     "execution_count": 26,
     "metadata": {},
     "output_type": "execute_result"
    }
   ],
   "source": [
    "data=df.columns\n",
    "data"
   ]
  },
  {
   "cell_type": "code",
   "execution_count": 27,
   "id": "764e8c24",
   "metadata": {},
   "outputs": [],
   "source": [
    "#Validation\n",
    "import logging\n",
    "import os\n",
    "import subprocess\n",
    "import yaml\n",
    "import pandas as pd\n",
    "import datetime \n",
    "import gc\n",
    "import re"
   ]
  },
  {
   "cell_type": "code",
   "execution_count": 28,
   "id": "2a8430a3",
   "metadata": {},
   "outputs": [
    {
     "name": "stdout",
     "output_type": "stream",
     "text": [
      "Overwriting utility.py\n"
     ]
    }
   ],
   "source": [
    "%%writefile utility.py\n",
    "\n",
    "def read_config_file(filepath):\n",
    "    with open(filepath, 'r') as stream:\n",
    "        try:\n",
    "            return yaml.load(stream, Loader=yaml.Loader)\n",
    "        except yaml.YAMLError as exc:\n",
    "            logging.error(exc)\n",
    "\n",
    "def col_header_val(df,table_config):\n",
    "    df.columns = df.columns.str.lower()\n",
    "    df.columns = df.columns.str.replace('[^\\w]','_',regex=True)\n",
    "    df.columns = list(map(lambda x: x.strip('_'), list(df.columns)))\n",
    "    df.columns = list(map(lambda x: replacer(x,'_'), list(df.columns)))\n",
    "    expected_col = list(map(lambda x: x.lower(),  table_config['columns']))\n",
    "    expected_col.sort()\n",
    "    df.columns =list(map(lambda x: x.lower(), list(df.columns)))\n",
    "    df = df.reindex(sorted(df.columns), axis=1)\n",
    "    if len(df.columns) == len(expected_col) and list(expected_col)  == list(df.columns):\n",
    "        print(\"column name and column length validation passed\")\n",
    "        return 1\n",
    "    else:\n",
    "        print(\"column name and column length validation failed\")\n",
    "        mismatched_columns_file = list(set(df.columns).difference(expected_col))\n",
    "        print(\"Following File columns are not in the YAML file\",mismatched_columns_file)\n",
    "        missing_YAML_file = list(set(expected_col).difference(df.columns))\n",
    "        print(\"Following YAML columns are not in the file uploaded\",missing_YAML_file)\n",
    "        logging.info(f'df columns: {df.columns}')\n",
    "        logging.info(f'expected columns: {expected_col}')\n",
    "        return 0"
   ]
  },
  {
   "cell_type": "code",
   "execution_count": 29,
   "id": "49a2f217",
   "metadata": {},
   "outputs": [
    {
     "name": "stdout",
     "output_type": "stream",
     "text": [
      "Overwriting store.yaml\n"
     ]
    }
   ],
   "source": [
    "%%writefile store.yaml\n",
    "file_type: csv\n",
    "dataset_name: file\n",
    "file_name: Rate\n",
    "table_name: edsurv\n",
    "inbound_delimiter: \",\"\n",
    "outbound_delimiter: \"|\"\n",
    "skip_leading_rows: 1\n",
    "columns: \n",
    "    - BusinessYear\n",
    "      - StateCode\n",
    "      - IssuerId\n",
    "      - SourceName\n",
    "      - VersionNum\n",
    "      - ImportDate\n",
    "      - IssuerId2\n",
    "      - FederalTIN\n",
    "      - RateEffectiveDate\n",
    "      - RateExpirationDate\n",
    "      - PlanId\n",
    "      - RatingAreaId\n",
    "      - Tobacco\n",
    "      - Age\n",
    "      - IndividualRate\n",
    "      - IndividualTobaccoRate\n",
    "      - Couple\n",
    "      - PrimarySubscriberAndOneDependent\n",
    "      - PrimarySubscriberAndTwoDependents\n",
    "      - PrimarySubscriberAndThreeOrMoreDependents\n",
    "      - CoupleAndOneDependent\n",
    "      - CoupleAndTwoDependents\n",
    "      - CoupleAndThreeOrMoreDependents\n",
    "      - RowNumber"
   ]
  },
  {
   "cell_type": "code",
   "execution_count": 34,
   "id": "f056da93",
   "metadata": {},
   "outputs": [
    {
     "data": {
      "text/plain": [
       "['C:\\\\Users\\\\ish35\\\\Data glacier\\\\week6\\\\Rate.csv.gz\\\\0.part']"
      ]
     },
     "execution_count": 34,
     "metadata": {},
     "output_type": "execute_result"
    }
   ],
   "source": [
    "import datetime\n",
    "import csv\n",
    "import gzip\n",
    "\n",
    "from dask import dataframe as dd\n",
    "df = dd.read_csv('Rate.csv',delimiter=',')\n",
    "\n",
    "# Write csv in gz format in pipe separated text file (|)\n",
    "df.to_csv('Rate.csv.gz',\n",
    "          sep='|',\n",
    "          header=True,\n",
    "          index=False,\n",
    "          quoting=csv.QUOTE_ALL,\n",
    "          compression='gzip',\n",
    "          quotechar='\"',\n",
    "          doublequote=True,\n",
    "          lineterminator='\\n')"
   ]
  },
  {
   "cell_type": "code",
   "execution_count": 35,
   "id": "a00c6450",
   "metadata": {},
   "outputs": [
    {
     "name": "stdout",
     "output_type": "stream",
     "text": [
      "0.part\n"
     ]
    }
   ],
   "source": [
    "#number of files in gz format folder\n",
    "import os\n",
    "entries = os.listdir('Rate.csv.gz')\n",
    "for entry in entries:\n",
    "    print(entry)"
   ]
  },
  {
   "cell_type": "code",
   "execution_count": 36,
   "id": "8c1a79d9",
   "metadata": {},
   "outputs": [
    {
     "data": {
      "text/plain": [
       "0"
      ]
     },
     "execution_count": 36,
     "metadata": {},
     "output_type": "execute_result"
    }
   ],
   "source": [
    "#size of the gz format folder\n",
    "os.path.getsize('Rate.csv.gz')"
   ]
  },
  {
   "cell_type": "code",
   "execution_count": null,
   "id": "2e5fc78e",
   "metadata": {},
   "outputs": [],
   "source": []
  }
 ],
 "metadata": {
  "kernelspec": {
   "display_name": "Python 3 (ipykernel)",
   "language": "python",
   "name": "python3"
  },
  "language_info": {
   "codemirror_mode": {
    "name": "ipython",
    "version": 3
   },
   "file_extension": ".py",
   "mimetype": "text/x-python",
   "name": "python",
   "nbconvert_exporter": "python",
   "pygments_lexer": "ipython3",
   "version": "3.9.12"
  }
 },
 "nbformat": 4,
 "nbformat_minor": 5
}
